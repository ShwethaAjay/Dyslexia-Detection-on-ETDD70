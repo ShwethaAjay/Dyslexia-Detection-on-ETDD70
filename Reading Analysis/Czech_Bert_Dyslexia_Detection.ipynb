{
  "nbformat": 4,
  "nbformat_minor": 0,
  "metadata": {
    "colab": {
      "provenance": []
    },
    "kernelspec": {
      "name": "python3",
      "display_name": "Python 3"
    },
    "language_info": {
      "name": "python"
    },
    "widgets": {
      "application/vnd.jupyter.widget-state+json": {
        "1dff409537ce43abb87eba71cd6d0c53": {
          "model_module": "@jupyter-widgets/controls",
          "model_name": "HBoxModel",
          "model_module_version": "1.5.0",
          "state": {
            "_dom_classes": [],
            "_model_module": "@jupyter-widgets/controls",
            "_model_module_version": "1.5.0",
            "_model_name": "HBoxModel",
            "_view_count": null,
            "_view_module": "@jupyter-widgets/controls",
            "_view_module_version": "1.5.0",
            "_view_name": "HBoxView",
            "box_style": "",
            "children": [
              "IPY_MODEL_01c508e5607a45b0976dc249497436e5",
              "IPY_MODEL_be6e314c47b74edbbe6ce6ba8f99fae2",
              "IPY_MODEL_3dbf4e81bdef456d8d664f9bf223675d"
            ],
            "layout": "IPY_MODEL_ef67d859ab4242dd846f73deff852839"
          }
        },
        "01c508e5607a45b0976dc249497436e5": {
          "model_module": "@jupyter-widgets/controls",
          "model_name": "HTMLModel",
          "model_module_version": "1.5.0",
          "state": {
            "_dom_classes": [],
            "_model_module": "@jupyter-widgets/controls",
            "_model_module_version": "1.5.0",
            "_model_name": "HTMLModel",
            "_view_count": null,
            "_view_module": "@jupyter-widgets/controls",
            "_view_module_version": "1.5.0",
            "_view_name": "HTMLView",
            "description": "",
            "description_tooltip": null,
            "layout": "IPY_MODEL_3fb7dd10c88046a7989636d866a40116",
            "placeholder": "​",
            "style": "IPY_MODEL_d67fd10c20d54da4aa813e07487a9857",
            "value": "tokenizer_config.json: 100%"
          }
        },
        "be6e314c47b74edbbe6ce6ba8f99fae2": {
          "model_module": "@jupyter-widgets/controls",
          "model_name": "FloatProgressModel",
          "model_module_version": "1.5.0",
          "state": {
            "_dom_classes": [],
            "_model_module": "@jupyter-widgets/controls",
            "_model_module_version": "1.5.0",
            "_model_name": "FloatProgressModel",
            "_view_count": null,
            "_view_module": "@jupyter-widgets/controls",
            "_view_module_version": "1.5.0",
            "_view_name": "ProgressView",
            "bar_style": "success",
            "description": "",
            "description_tooltip": null,
            "layout": "IPY_MODEL_3a0b553cf85b492f8174c1ce8c4a5e03",
            "max": 161,
            "min": 0,
            "orientation": "horizontal",
            "style": "IPY_MODEL_d23c895c078643e3a555ed0f938b80e2",
            "value": 161
          }
        },
        "3dbf4e81bdef456d8d664f9bf223675d": {
          "model_module": "@jupyter-widgets/controls",
          "model_name": "HTMLModel",
          "model_module_version": "1.5.0",
          "state": {
            "_dom_classes": [],
            "_model_module": "@jupyter-widgets/controls",
            "_model_module_version": "1.5.0",
            "_model_name": "HTMLModel",
            "_view_count": null,
            "_view_module": "@jupyter-widgets/controls",
            "_view_module_version": "1.5.0",
            "_view_name": "HTMLView",
            "description": "",
            "description_tooltip": null,
            "layout": "IPY_MODEL_6257a6a98dc84201b3cf9dca37f56157",
            "placeholder": "​",
            "style": "IPY_MODEL_73c352481dd44742aaf82c23c1bfb5ab",
            "value": " 161/161 [00:00&lt;00:00, 4.10kB/s]"
          }
        },
        "ef67d859ab4242dd846f73deff852839": {
          "model_module": "@jupyter-widgets/base",
          "model_name": "LayoutModel",
          "model_module_version": "1.2.0",
          "state": {
            "_model_module": "@jupyter-widgets/base",
            "_model_module_version": "1.2.0",
            "_model_name": "LayoutModel",
            "_view_count": null,
            "_view_module": "@jupyter-widgets/base",
            "_view_module_version": "1.2.0",
            "_view_name": "LayoutView",
            "align_content": null,
            "align_items": null,
            "align_self": null,
            "border": null,
            "bottom": null,
            "display": null,
            "flex": null,
            "flex_flow": null,
            "grid_area": null,
            "grid_auto_columns": null,
            "grid_auto_flow": null,
            "grid_auto_rows": null,
            "grid_column": null,
            "grid_gap": null,
            "grid_row": null,
            "grid_template_areas": null,
            "grid_template_columns": null,
            "grid_template_rows": null,
            "height": null,
            "justify_content": null,
            "justify_items": null,
            "left": null,
            "margin": null,
            "max_height": null,
            "max_width": null,
            "min_height": null,
            "min_width": null,
            "object_fit": null,
            "object_position": null,
            "order": null,
            "overflow": null,
            "overflow_x": null,
            "overflow_y": null,
            "padding": null,
            "right": null,
            "top": null,
            "visibility": null,
            "width": null
          }
        },
        "3fb7dd10c88046a7989636d866a40116": {
          "model_module": "@jupyter-widgets/base",
          "model_name": "LayoutModel",
          "model_module_version": "1.2.0",
          "state": {
            "_model_module": "@jupyter-widgets/base",
            "_model_module_version": "1.2.0",
            "_model_name": "LayoutModel",
            "_view_count": null,
            "_view_module": "@jupyter-widgets/base",
            "_view_module_version": "1.2.0",
            "_view_name": "LayoutView",
            "align_content": null,
            "align_items": null,
            "align_self": null,
            "border": null,
            "bottom": null,
            "display": null,
            "flex": null,
            "flex_flow": null,
            "grid_area": null,
            "grid_auto_columns": null,
            "grid_auto_flow": null,
            "grid_auto_rows": null,
            "grid_column": null,
            "grid_gap": null,
            "grid_row": null,
            "grid_template_areas": null,
            "grid_template_columns": null,
            "grid_template_rows": null,
            "height": null,
            "justify_content": null,
            "justify_items": null,
            "left": null,
            "margin": null,
            "max_height": null,
            "max_width": null,
            "min_height": null,
            "min_width": null,
            "object_fit": null,
            "object_position": null,
            "order": null,
            "overflow": null,
            "overflow_x": null,
            "overflow_y": null,
            "padding": null,
            "right": null,
            "top": null,
            "visibility": null,
            "width": null
          }
        },
        "d67fd10c20d54da4aa813e07487a9857": {
          "model_module": "@jupyter-widgets/controls",
          "model_name": "DescriptionStyleModel",
          "model_module_version": "1.5.0",
          "state": {
            "_model_module": "@jupyter-widgets/controls",
            "_model_module_version": "1.5.0",
            "_model_name": "DescriptionStyleModel",
            "_view_count": null,
            "_view_module": "@jupyter-widgets/base",
            "_view_module_version": "1.2.0",
            "_view_name": "StyleView",
            "description_width": ""
          }
        },
        "3a0b553cf85b492f8174c1ce8c4a5e03": {
          "model_module": "@jupyter-widgets/base",
          "model_name": "LayoutModel",
          "model_module_version": "1.2.0",
          "state": {
            "_model_module": "@jupyter-widgets/base",
            "_model_module_version": "1.2.0",
            "_model_name": "LayoutModel",
            "_view_count": null,
            "_view_module": "@jupyter-widgets/base",
            "_view_module_version": "1.2.0",
            "_view_name": "LayoutView",
            "align_content": null,
            "align_items": null,
            "align_self": null,
            "border": null,
            "bottom": null,
            "display": null,
            "flex": null,
            "flex_flow": null,
            "grid_area": null,
            "grid_auto_columns": null,
            "grid_auto_flow": null,
            "grid_auto_rows": null,
            "grid_column": null,
            "grid_gap": null,
            "grid_row": null,
            "grid_template_areas": null,
            "grid_template_columns": null,
            "grid_template_rows": null,
            "height": null,
            "justify_content": null,
            "justify_items": null,
            "left": null,
            "margin": null,
            "max_height": null,
            "max_width": null,
            "min_height": null,
            "min_width": null,
            "object_fit": null,
            "object_position": null,
            "order": null,
            "overflow": null,
            "overflow_x": null,
            "overflow_y": null,
            "padding": null,
            "right": null,
            "top": null,
            "visibility": null,
            "width": null
          }
        },
        "d23c895c078643e3a555ed0f938b80e2": {
          "model_module": "@jupyter-widgets/controls",
          "model_name": "ProgressStyleModel",
          "model_module_version": "1.5.0",
          "state": {
            "_model_module": "@jupyter-widgets/controls",
            "_model_module_version": "1.5.0",
            "_model_name": "ProgressStyleModel",
            "_view_count": null,
            "_view_module": "@jupyter-widgets/base",
            "_view_module_version": "1.2.0",
            "_view_name": "StyleView",
            "bar_color": null,
            "description_width": ""
          }
        },
        "6257a6a98dc84201b3cf9dca37f56157": {
          "model_module": "@jupyter-widgets/base",
          "model_name": "LayoutModel",
          "model_module_version": "1.2.0",
          "state": {
            "_model_module": "@jupyter-widgets/base",
            "_model_module_version": "1.2.0",
            "_model_name": "LayoutModel",
            "_view_count": null,
            "_view_module": "@jupyter-widgets/base",
            "_view_module_version": "1.2.0",
            "_view_name": "LayoutView",
            "align_content": null,
            "align_items": null,
            "align_self": null,
            "border": null,
            "bottom": null,
            "display": null,
            "flex": null,
            "flex_flow": null,
            "grid_area": null,
            "grid_auto_columns": null,
            "grid_auto_flow": null,
            "grid_auto_rows": null,
            "grid_column": null,
            "grid_gap": null,
            "grid_row": null,
            "grid_template_areas": null,
            "grid_template_columns": null,
            "grid_template_rows": null,
            "height": null,
            "justify_content": null,
            "justify_items": null,
            "left": null,
            "margin": null,
            "max_height": null,
            "max_width": null,
            "min_height": null,
            "min_width": null,
            "object_fit": null,
            "object_position": null,
            "order": null,
            "overflow": null,
            "overflow_x": null,
            "overflow_y": null,
            "padding": null,
            "right": null,
            "top": null,
            "visibility": null,
            "width": null
          }
        },
        "73c352481dd44742aaf82c23c1bfb5ab": {
          "model_module": "@jupyter-widgets/controls",
          "model_name": "DescriptionStyleModel",
          "model_module_version": "1.5.0",
          "state": {
            "_model_module": "@jupyter-widgets/controls",
            "_model_module_version": "1.5.0",
            "_model_name": "DescriptionStyleModel",
            "_view_count": null,
            "_view_module": "@jupyter-widgets/base",
            "_view_module_version": "1.2.0",
            "_view_name": "StyleView",
            "description_width": ""
          }
        },
        "112489a9fed14e7b943267665cf2717d": {
          "model_module": "@jupyter-widgets/controls",
          "model_name": "HBoxModel",
          "model_module_version": "1.5.0",
          "state": {
            "_dom_classes": [],
            "_model_module": "@jupyter-widgets/controls",
            "_model_module_version": "1.5.0",
            "_model_name": "HBoxModel",
            "_view_count": null,
            "_view_module": "@jupyter-widgets/controls",
            "_view_module_version": "1.5.0",
            "_view_name": "HBoxView",
            "box_style": "",
            "children": [
              "IPY_MODEL_6edcacbde4be440eb6e5d1a7d41ccb69",
              "IPY_MODEL_ecf76daa4d364d2aa8f8aafdedfe618a",
              "IPY_MODEL_4efa2eba70f449279969f425468ab370"
            ],
            "layout": "IPY_MODEL_2c15bd9e27d74458bc8b307d8dbb26db"
          }
        },
        "6edcacbde4be440eb6e5d1a7d41ccb69": {
          "model_module": "@jupyter-widgets/controls",
          "model_name": "HTMLModel",
          "model_module_version": "1.5.0",
          "state": {
            "_dom_classes": [],
            "_model_module": "@jupyter-widgets/controls",
            "_model_module_version": "1.5.0",
            "_model_name": "HTMLModel",
            "_view_count": null,
            "_view_module": "@jupyter-widgets/controls",
            "_view_module_version": "1.5.0",
            "_view_name": "HTMLView",
            "description": "",
            "description_tooltip": null,
            "layout": "IPY_MODEL_a808e1e106f649599f5ab51e726f4b8f",
            "placeholder": "​",
            "style": "IPY_MODEL_5f0447ce4d2c44efbbebe6e3abcd0942",
            "value": "config.json: 100%"
          }
        },
        "ecf76daa4d364d2aa8f8aafdedfe618a": {
          "model_module": "@jupyter-widgets/controls",
          "model_name": "FloatProgressModel",
          "model_module_version": "1.5.0",
          "state": {
            "_dom_classes": [],
            "_model_module": "@jupyter-widgets/controls",
            "_model_module_version": "1.5.0",
            "_model_name": "FloatProgressModel",
            "_view_count": null,
            "_view_module": "@jupyter-widgets/controls",
            "_view_module_version": "1.5.0",
            "_view_name": "ProgressView",
            "bar_style": "success",
            "description": "",
            "description_tooltip": null,
            "layout": "IPY_MODEL_6f09ebc1e670431fb7706ff532c1aff5",
            "max": 675,
            "min": 0,
            "orientation": "horizontal",
            "style": "IPY_MODEL_a810881112fc4f8a894e20e7f8f9e859",
            "value": 675
          }
        },
        "4efa2eba70f449279969f425468ab370": {
          "model_module": "@jupyter-widgets/controls",
          "model_name": "HTMLModel",
          "model_module_version": "1.5.0",
          "state": {
            "_dom_classes": [],
            "_model_module": "@jupyter-widgets/controls",
            "_model_module_version": "1.5.0",
            "_model_name": "HTMLModel",
            "_view_count": null,
            "_view_module": "@jupyter-widgets/controls",
            "_view_module_version": "1.5.0",
            "_view_name": "HTMLView",
            "description": "",
            "description_tooltip": null,
            "layout": "IPY_MODEL_dc3bdf3944684260b365e7692e4612eb",
            "placeholder": "​",
            "style": "IPY_MODEL_ec4bac77716c441092e14090d6818b84",
            "value": " 675/675 [00:00&lt;00:00, 21.0kB/s]"
          }
        },
        "2c15bd9e27d74458bc8b307d8dbb26db": {
          "model_module": "@jupyter-widgets/base",
          "model_name": "LayoutModel",
          "model_module_version": "1.2.0",
          "state": {
            "_model_module": "@jupyter-widgets/base",
            "_model_module_version": "1.2.0",
            "_model_name": "LayoutModel",
            "_view_count": null,
            "_view_module": "@jupyter-widgets/base",
            "_view_module_version": "1.2.0",
            "_view_name": "LayoutView",
            "align_content": null,
            "align_items": null,
            "align_self": null,
            "border": null,
            "bottom": null,
            "display": null,
            "flex": null,
            "flex_flow": null,
            "grid_area": null,
            "grid_auto_columns": null,
            "grid_auto_flow": null,
            "grid_auto_rows": null,
            "grid_column": null,
            "grid_gap": null,
            "grid_row": null,
            "grid_template_areas": null,
            "grid_template_columns": null,
            "grid_template_rows": null,
            "height": null,
            "justify_content": null,
            "justify_items": null,
            "left": null,
            "margin": null,
            "max_height": null,
            "max_width": null,
            "min_height": null,
            "min_width": null,
            "object_fit": null,
            "object_position": null,
            "order": null,
            "overflow": null,
            "overflow_x": null,
            "overflow_y": null,
            "padding": null,
            "right": null,
            "top": null,
            "visibility": null,
            "width": null
          }
        },
        "a808e1e106f649599f5ab51e726f4b8f": {
          "model_module": "@jupyter-widgets/base",
          "model_name": "LayoutModel",
          "model_module_version": "1.2.0",
          "state": {
            "_model_module": "@jupyter-widgets/base",
            "_model_module_version": "1.2.0",
            "_model_name": "LayoutModel",
            "_view_count": null,
            "_view_module": "@jupyter-widgets/base",
            "_view_module_version": "1.2.0",
            "_view_name": "LayoutView",
            "align_content": null,
            "align_items": null,
            "align_self": null,
            "border": null,
            "bottom": null,
            "display": null,
            "flex": null,
            "flex_flow": null,
            "grid_area": null,
            "grid_auto_columns": null,
            "grid_auto_flow": null,
            "grid_auto_rows": null,
            "grid_column": null,
            "grid_gap": null,
            "grid_row": null,
            "grid_template_areas": null,
            "grid_template_columns": null,
            "grid_template_rows": null,
            "height": null,
            "justify_content": null,
            "justify_items": null,
            "left": null,
            "margin": null,
            "max_height": null,
            "max_width": null,
            "min_height": null,
            "min_width": null,
            "object_fit": null,
            "object_position": null,
            "order": null,
            "overflow": null,
            "overflow_x": null,
            "overflow_y": null,
            "padding": null,
            "right": null,
            "top": null,
            "visibility": null,
            "width": null
          }
        },
        "5f0447ce4d2c44efbbebe6e3abcd0942": {
          "model_module": "@jupyter-widgets/controls",
          "model_name": "DescriptionStyleModel",
          "model_module_version": "1.5.0",
          "state": {
            "_model_module": "@jupyter-widgets/controls",
            "_model_module_version": "1.5.0",
            "_model_name": "DescriptionStyleModel",
            "_view_count": null,
            "_view_module": "@jupyter-widgets/base",
            "_view_module_version": "1.2.0",
            "_view_name": "StyleView",
            "description_width": ""
          }
        },
        "6f09ebc1e670431fb7706ff532c1aff5": {
          "model_module": "@jupyter-widgets/base",
          "model_name": "LayoutModel",
          "model_module_version": "1.2.0",
          "state": {
            "_model_module": "@jupyter-widgets/base",
            "_model_module_version": "1.2.0",
            "_model_name": "LayoutModel",
            "_view_count": null,
            "_view_module": "@jupyter-widgets/base",
            "_view_module_version": "1.2.0",
            "_view_name": "LayoutView",
            "align_content": null,
            "align_items": null,
            "align_self": null,
            "border": null,
            "bottom": null,
            "display": null,
            "flex": null,
            "flex_flow": null,
            "grid_area": null,
            "grid_auto_columns": null,
            "grid_auto_flow": null,
            "grid_auto_rows": null,
            "grid_column": null,
            "grid_gap": null,
            "grid_row": null,
            "grid_template_areas": null,
            "grid_template_columns": null,
            "grid_template_rows": null,
            "height": null,
            "justify_content": null,
            "justify_items": null,
            "left": null,
            "margin": null,
            "max_height": null,
            "max_width": null,
            "min_height": null,
            "min_width": null,
            "object_fit": null,
            "object_position": null,
            "order": null,
            "overflow": null,
            "overflow_x": null,
            "overflow_y": null,
            "padding": null,
            "right": null,
            "top": null,
            "visibility": null,
            "width": null
          }
        },
        "a810881112fc4f8a894e20e7f8f9e859": {
          "model_module": "@jupyter-widgets/controls",
          "model_name": "ProgressStyleModel",
          "model_module_version": "1.5.0",
          "state": {
            "_model_module": "@jupyter-widgets/controls",
            "_model_module_version": "1.5.0",
            "_model_name": "ProgressStyleModel",
            "_view_count": null,
            "_view_module": "@jupyter-widgets/base",
            "_view_module_version": "1.2.0",
            "_view_name": "StyleView",
            "bar_color": null,
            "description_width": ""
          }
        },
        "dc3bdf3944684260b365e7692e4612eb": {
          "model_module": "@jupyter-widgets/base",
          "model_name": "LayoutModel",
          "model_module_version": "1.2.0",
          "state": {
            "_model_module": "@jupyter-widgets/base",
            "_model_module_version": "1.2.0",
            "_model_name": "LayoutModel",
            "_view_count": null,
            "_view_module": "@jupyter-widgets/base",
            "_view_module_version": "1.2.0",
            "_view_name": "LayoutView",
            "align_content": null,
            "align_items": null,
            "align_self": null,
            "border": null,
            "bottom": null,
            "display": null,
            "flex": null,
            "flex_flow": null,
            "grid_area": null,
            "grid_auto_columns": null,
            "grid_auto_flow": null,
            "grid_auto_rows": null,
            "grid_column": null,
            "grid_gap": null,
            "grid_row": null,
            "grid_template_areas": null,
            "grid_template_columns": null,
            "grid_template_rows": null,
            "height": null,
            "justify_content": null,
            "justify_items": null,
            "left": null,
            "margin": null,
            "max_height": null,
            "max_width": null,
            "min_height": null,
            "min_width": null,
            "object_fit": null,
            "object_position": null,
            "order": null,
            "overflow": null,
            "overflow_x": null,
            "overflow_y": null,
            "padding": null,
            "right": null,
            "top": null,
            "visibility": null,
            "width": null
          }
        },
        "ec4bac77716c441092e14090d6818b84": {
          "model_module": "@jupyter-widgets/controls",
          "model_name": "DescriptionStyleModel",
          "model_module_version": "1.5.0",
          "state": {
            "_model_module": "@jupyter-widgets/controls",
            "_model_module_version": "1.5.0",
            "_model_name": "DescriptionStyleModel",
            "_view_count": null,
            "_view_module": "@jupyter-widgets/base",
            "_view_module_version": "1.2.0",
            "_view_name": "StyleView",
            "description_width": ""
          }
        },
        "90ea4bef3db74a0b9879f2d2f9d98618": {
          "model_module": "@jupyter-widgets/controls",
          "model_name": "HBoxModel",
          "model_module_version": "1.5.0",
          "state": {
            "_dom_classes": [],
            "_model_module": "@jupyter-widgets/controls",
            "_model_module_version": "1.5.0",
            "_model_name": "HBoxModel",
            "_view_count": null,
            "_view_module": "@jupyter-widgets/controls",
            "_view_module_version": "1.5.0",
            "_view_name": "HBoxView",
            "box_style": "",
            "children": [
              "IPY_MODEL_e54ba268f4fd4f54959470dd59a50f52",
              "IPY_MODEL_7c2ca7c4580a40df93df51798c7afcea",
              "IPY_MODEL_2b5ece8ef4f64893be277d3ee83aa23a"
            ],
            "layout": "IPY_MODEL_59575de8654b4d3a8f24b701b4c03739"
          }
        },
        "e54ba268f4fd4f54959470dd59a50f52": {
          "model_module": "@jupyter-widgets/controls",
          "model_name": "HTMLModel",
          "model_module_version": "1.5.0",
          "state": {
            "_dom_classes": [],
            "_model_module": "@jupyter-widgets/controls",
            "_model_module_version": "1.5.0",
            "_model_name": "HTMLModel",
            "_view_count": null,
            "_view_module": "@jupyter-widgets/controls",
            "_view_module_version": "1.5.0",
            "_view_name": "HTMLView",
            "description": "",
            "description_tooltip": null,
            "layout": "IPY_MODEL_4669df66bdf74f6baa35c99f7cf6e7f7",
            "placeholder": "​",
            "style": "IPY_MODEL_c3503d87dba64364b5c4c2d89781aa75",
            "value": "vocab.txt: 100%"
          }
        },
        "7c2ca7c4580a40df93df51798c7afcea": {
          "model_module": "@jupyter-widgets/controls",
          "model_name": "FloatProgressModel",
          "model_module_version": "1.5.0",
          "state": {
            "_dom_classes": [],
            "_model_module": "@jupyter-widgets/controls",
            "_model_module_version": "1.5.0",
            "_model_name": "FloatProgressModel",
            "_view_count": null,
            "_view_module": "@jupyter-widgets/controls",
            "_view_module_version": "1.5.0",
            "_view_name": "ProgressView",
            "bar_style": "success",
            "description": "",
            "description_tooltip": null,
            "layout": "IPY_MODEL_b86d65a6f7534abcb1539d88e6f96706",
            "max": 213883,
            "min": 0,
            "orientation": "horizontal",
            "style": "IPY_MODEL_04eb18c4f1b348c681982e12d81bb8e0",
            "value": 213883
          }
        },
        "2b5ece8ef4f64893be277d3ee83aa23a": {
          "model_module": "@jupyter-widgets/controls",
          "model_name": "HTMLModel",
          "model_module_version": "1.5.0",
          "state": {
            "_dom_classes": [],
            "_model_module": "@jupyter-widgets/controls",
            "_model_module_version": "1.5.0",
            "_model_name": "HTMLModel",
            "_view_count": null,
            "_view_module": "@jupyter-widgets/controls",
            "_view_module_version": "1.5.0",
            "_view_name": "HTMLView",
            "description": "",
            "description_tooltip": null,
            "layout": "IPY_MODEL_10f5fe90a0ad47dd96c4a4d1cff8a9c9",
            "placeholder": "​",
            "style": "IPY_MODEL_1d63ad4fd8d7437f96f26e10efcc5c53",
            "value": " 214k/214k [00:00&lt;00:00, 2.12MB/s]"
          }
        },
        "59575de8654b4d3a8f24b701b4c03739": {
          "model_module": "@jupyter-widgets/base",
          "model_name": "LayoutModel",
          "model_module_version": "1.2.0",
          "state": {
            "_model_module": "@jupyter-widgets/base",
            "_model_module_version": "1.2.0",
            "_model_name": "LayoutModel",
            "_view_count": null,
            "_view_module": "@jupyter-widgets/base",
            "_view_module_version": "1.2.0",
            "_view_name": "LayoutView",
            "align_content": null,
            "align_items": null,
            "align_self": null,
            "border": null,
            "bottom": null,
            "display": null,
            "flex": null,
            "flex_flow": null,
            "grid_area": null,
            "grid_auto_columns": null,
            "grid_auto_flow": null,
            "grid_auto_rows": null,
            "grid_column": null,
            "grid_gap": null,
            "grid_row": null,
            "grid_template_areas": null,
            "grid_template_columns": null,
            "grid_template_rows": null,
            "height": null,
            "justify_content": null,
            "justify_items": null,
            "left": null,
            "margin": null,
            "max_height": null,
            "max_width": null,
            "min_height": null,
            "min_width": null,
            "object_fit": null,
            "object_position": null,
            "order": null,
            "overflow": null,
            "overflow_x": null,
            "overflow_y": null,
            "padding": null,
            "right": null,
            "top": null,
            "visibility": null,
            "width": null
          }
        },
        "4669df66bdf74f6baa35c99f7cf6e7f7": {
          "model_module": "@jupyter-widgets/base",
          "model_name": "LayoutModel",
          "model_module_version": "1.2.0",
          "state": {
            "_model_module": "@jupyter-widgets/base",
            "_model_module_version": "1.2.0",
            "_model_name": "LayoutModel",
            "_view_count": null,
            "_view_module": "@jupyter-widgets/base",
            "_view_module_version": "1.2.0",
            "_view_name": "LayoutView",
            "align_content": null,
            "align_items": null,
            "align_self": null,
            "border": null,
            "bottom": null,
            "display": null,
            "flex": null,
            "flex_flow": null,
            "grid_area": null,
            "grid_auto_columns": null,
            "grid_auto_flow": null,
            "grid_auto_rows": null,
            "grid_column": null,
            "grid_gap": null,
            "grid_row": null,
            "grid_template_areas": null,
            "grid_template_columns": null,
            "grid_template_rows": null,
            "height": null,
            "justify_content": null,
            "justify_items": null,
            "left": null,
            "margin": null,
            "max_height": null,
            "max_width": null,
            "min_height": null,
            "min_width": null,
            "object_fit": null,
            "object_position": null,
            "order": null,
            "overflow": null,
            "overflow_x": null,
            "overflow_y": null,
            "padding": null,
            "right": null,
            "top": null,
            "visibility": null,
            "width": null
          }
        },
        "c3503d87dba64364b5c4c2d89781aa75": {
          "model_module": "@jupyter-widgets/controls",
          "model_name": "DescriptionStyleModel",
          "model_module_version": "1.5.0",
          "state": {
            "_model_module": "@jupyter-widgets/controls",
            "_model_module_version": "1.5.0",
            "_model_name": "DescriptionStyleModel",
            "_view_count": null,
            "_view_module": "@jupyter-widgets/base",
            "_view_module_version": "1.2.0",
            "_view_name": "StyleView",
            "description_width": ""
          }
        },
        "b86d65a6f7534abcb1539d88e6f96706": {
          "model_module": "@jupyter-widgets/base",
          "model_name": "LayoutModel",
          "model_module_version": "1.2.0",
          "state": {
            "_model_module": "@jupyter-widgets/base",
            "_model_module_version": "1.2.0",
            "_model_name": "LayoutModel",
            "_view_count": null,
            "_view_module": "@jupyter-widgets/base",
            "_view_module_version": "1.2.0",
            "_view_name": "LayoutView",
            "align_content": null,
            "align_items": null,
            "align_self": null,
            "border": null,
            "bottom": null,
            "display": null,
            "flex": null,
            "flex_flow": null,
            "grid_area": null,
            "grid_auto_columns": null,
            "grid_auto_flow": null,
            "grid_auto_rows": null,
            "grid_column": null,
            "grid_gap": null,
            "grid_row": null,
            "grid_template_areas": null,
            "grid_template_columns": null,
            "grid_template_rows": null,
            "height": null,
            "justify_content": null,
            "justify_items": null,
            "left": null,
            "margin": null,
            "max_height": null,
            "max_width": null,
            "min_height": null,
            "min_width": null,
            "object_fit": null,
            "object_position": null,
            "order": null,
            "overflow": null,
            "overflow_x": null,
            "overflow_y": null,
            "padding": null,
            "right": null,
            "top": null,
            "visibility": null,
            "width": null
          }
        },
        "04eb18c4f1b348c681982e12d81bb8e0": {
          "model_module": "@jupyter-widgets/controls",
          "model_name": "ProgressStyleModel",
          "model_module_version": "1.5.0",
          "state": {
            "_model_module": "@jupyter-widgets/controls",
            "_model_module_version": "1.5.0",
            "_model_name": "ProgressStyleModel",
            "_view_count": null,
            "_view_module": "@jupyter-widgets/base",
            "_view_module_version": "1.2.0",
            "_view_name": "StyleView",
            "bar_color": null,
            "description_width": ""
          }
        },
        "10f5fe90a0ad47dd96c4a4d1cff8a9c9": {
          "model_module": "@jupyter-widgets/base",
          "model_name": "LayoutModel",
          "model_module_version": "1.2.0",
          "state": {
            "_model_module": "@jupyter-widgets/base",
            "_model_module_version": "1.2.0",
            "_model_name": "LayoutModel",
            "_view_count": null,
            "_view_module": "@jupyter-widgets/base",
            "_view_module_version": "1.2.0",
            "_view_name": "LayoutView",
            "align_content": null,
            "align_items": null,
            "align_self": null,
            "border": null,
            "bottom": null,
            "display": null,
            "flex": null,
            "flex_flow": null,
            "grid_area": null,
            "grid_auto_columns": null,
            "grid_auto_flow": null,
            "grid_auto_rows": null,
            "grid_column": null,
            "grid_gap": null,
            "grid_row": null,
            "grid_template_areas": null,
            "grid_template_columns": null,
            "grid_template_rows": null,
            "height": null,
            "justify_content": null,
            "justify_items": null,
            "left": null,
            "margin": null,
            "max_height": null,
            "max_width": null,
            "min_height": null,
            "min_width": null,
            "object_fit": null,
            "object_position": null,
            "order": null,
            "overflow": null,
            "overflow_x": null,
            "overflow_y": null,
            "padding": null,
            "right": null,
            "top": null,
            "visibility": null,
            "width": null
          }
        },
        "1d63ad4fd8d7437f96f26e10efcc5c53": {
          "model_module": "@jupyter-widgets/controls",
          "model_name": "DescriptionStyleModel",
          "model_module_version": "1.5.0",
          "state": {
            "_model_module": "@jupyter-widgets/controls",
            "_model_module_version": "1.5.0",
            "_model_name": "DescriptionStyleModel",
            "_view_count": null,
            "_view_module": "@jupyter-widgets/base",
            "_view_module_version": "1.2.0",
            "_view_name": "StyleView",
            "description_width": ""
          }
        },
        "436c95957ecb43ffaa591ad7cfe141c3": {
          "model_module": "@jupyter-widgets/controls",
          "model_name": "HBoxModel",
          "model_module_version": "1.5.0",
          "state": {
            "_dom_classes": [],
            "_model_module": "@jupyter-widgets/controls",
            "_model_module_version": "1.5.0",
            "_model_name": "HBoxModel",
            "_view_count": null,
            "_view_module": "@jupyter-widgets/controls",
            "_view_module_version": "1.5.0",
            "_view_name": "HBoxView",
            "box_style": "",
            "children": [
              "IPY_MODEL_81318cadeda244b68fa1e6c681f274f9",
              "IPY_MODEL_79cd38460cee45b19b6676c4e8793942",
              "IPY_MODEL_529e9a62ab4143f8a6f65c807fcc1342"
            ],
            "layout": "IPY_MODEL_599cb47103cd4df89f2afa31a279396a"
          }
        },
        "81318cadeda244b68fa1e6c681f274f9": {
          "model_module": "@jupyter-widgets/controls",
          "model_name": "HTMLModel",
          "model_module_version": "1.5.0",
          "state": {
            "_dom_classes": [],
            "_model_module": "@jupyter-widgets/controls",
            "_model_module_version": "1.5.0",
            "_model_name": "HTMLModel",
            "_view_count": null,
            "_view_module": "@jupyter-widgets/controls",
            "_view_module_version": "1.5.0",
            "_view_name": "HTMLView",
            "description": "",
            "description_tooltip": null,
            "layout": "IPY_MODEL_afcf8a993a334d888881d464600f3418",
            "placeholder": "​",
            "style": "IPY_MODEL_a303e98b7ed2421b924963a2d64b6d60",
            "value": "special_tokens_map.json: 100%"
          }
        },
        "79cd38460cee45b19b6676c4e8793942": {
          "model_module": "@jupyter-widgets/controls",
          "model_name": "FloatProgressModel",
          "model_module_version": "1.5.0",
          "state": {
            "_dom_classes": [],
            "_model_module": "@jupyter-widgets/controls",
            "_model_module_version": "1.5.0",
            "_model_name": "FloatProgressModel",
            "_view_count": null,
            "_view_module": "@jupyter-widgets/controls",
            "_view_module_version": "1.5.0",
            "_view_name": "ProgressView",
            "bar_style": "success",
            "description": "",
            "description_tooltip": null,
            "layout": "IPY_MODEL_7e8189d4a1854a3c9953bf8b6d0a0028",
            "max": 112,
            "min": 0,
            "orientation": "horizontal",
            "style": "IPY_MODEL_2ed88d5b4789442fb382f85c80060631",
            "value": 112
          }
        },
        "529e9a62ab4143f8a6f65c807fcc1342": {
          "model_module": "@jupyter-widgets/controls",
          "model_name": "HTMLModel",
          "model_module_version": "1.5.0",
          "state": {
            "_dom_classes": [],
            "_model_module": "@jupyter-widgets/controls",
            "_model_module_version": "1.5.0",
            "_model_name": "HTMLModel",
            "_view_count": null,
            "_view_module": "@jupyter-widgets/controls",
            "_view_module_version": "1.5.0",
            "_view_name": "HTMLView",
            "description": "",
            "description_tooltip": null,
            "layout": "IPY_MODEL_6e9bdba790c24f9b8527d78e20407e6b",
            "placeholder": "​",
            "style": "IPY_MODEL_5cb40c76b9cc423d86d2a2906819202b",
            "value": " 112/112 [00:00&lt;00:00, 1.35kB/s]"
          }
        },
        "599cb47103cd4df89f2afa31a279396a": {
          "model_module": "@jupyter-widgets/base",
          "model_name": "LayoutModel",
          "model_module_version": "1.2.0",
          "state": {
            "_model_module": "@jupyter-widgets/base",
            "_model_module_version": "1.2.0",
            "_model_name": "LayoutModel",
            "_view_count": null,
            "_view_module": "@jupyter-widgets/base",
            "_view_module_version": "1.2.0",
            "_view_name": "LayoutView",
            "align_content": null,
            "align_items": null,
            "align_self": null,
            "border": null,
            "bottom": null,
            "display": null,
            "flex": null,
            "flex_flow": null,
            "grid_area": null,
            "grid_auto_columns": null,
            "grid_auto_flow": null,
            "grid_auto_rows": null,
            "grid_column": null,
            "grid_gap": null,
            "grid_row": null,
            "grid_template_areas": null,
            "grid_template_columns": null,
            "grid_template_rows": null,
            "height": null,
            "justify_content": null,
            "justify_items": null,
            "left": null,
            "margin": null,
            "max_height": null,
            "max_width": null,
            "min_height": null,
            "min_width": null,
            "object_fit": null,
            "object_position": null,
            "order": null,
            "overflow": null,
            "overflow_x": null,
            "overflow_y": null,
            "padding": null,
            "right": null,
            "top": null,
            "visibility": null,
            "width": null
          }
        },
        "afcf8a993a334d888881d464600f3418": {
          "model_module": "@jupyter-widgets/base",
          "model_name": "LayoutModel",
          "model_module_version": "1.2.0",
          "state": {
            "_model_module": "@jupyter-widgets/base",
            "_model_module_version": "1.2.0",
            "_model_name": "LayoutModel",
            "_view_count": null,
            "_view_module": "@jupyter-widgets/base",
            "_view_module_version": "1.2.0",
            "_view_name": "LayoutView",
            "align_content": null,
            "align_items": null,
            "align_self": null,
            "border": null,
            "bottom": null,
            "display": null,
            "flex": null,
            "flex_flow": null,
            "grid_area": null,
            "grid_auto_columns": null,
            "grid_auto_flow": null,
            "grid_auto_rows": null,
            "grid_column": null,
            "grid_gap": null,
            "grid_row": null,
            "grid_template_areas": null,
            "grid_template_columns": null,
            "grid_template_rows": null,
            "height": null,
            "justify_content": null,
            "justify_items": null,
            "left": null,
            "margin": null,
            "max_height": null,
            "max_width": null,
            "min_height": null,
            "min_width": null,
            "object_fit": null,
            "object_position": null,
            "order": null,
            "overflow": null,
            "overflow_x": null,
            "overflow_y": null,
            "padding": null,
            "right": null,
            "top": null,
            "visibility": null,
            "width": null
          }
        },
        "a303e98b7ed2421b924963a2d64b6d60": {
          "model_module": "@jupyter-widgets/controls",
          "model_name": "DescriptionStyleModel",
          "model_module_version": "1.5.0",
          "state": {
            "_model_module": "@jupyter-widgets/controls",
            "_model_module_version": "1.5.0",
            "_model_name": "DescriptionStyleModel",
            "_view_count": null,
            "_view_module": "@jupyter-widgets/base",
            "_view_module_version": "1.2.0",
            "_view_name": "StyleView",
            "description_width": ""
          }
        },
        "7e8189d4a1854a3c9953bf8b6d0a0028": {
          "model_module": "@jupyter-widgets/base",
          "model_name": "LayoutModel",
          "model_module_version": "1.2.0",
          "state": {
            "_model_module": "@jupyter-widgets/base",
            "_model_module_version": "1.2.0",
            "_model_name": "LayoutModel",
            "_view_count": null,
            "_view_module": "@jupyter-widgets/base",
            "_view_module_version": "1.2.0",
            "_view_name": "LayoutView",
            "align_content": null,
            "align_items": null,
            "align_self": null,
            "border": null,
            "bottom": null,
            "display": null,
            "flex": null,
            "flex_flow": null,
            "grid_area": null,
            "grid_auto_columns": null,
            "grid_auto_flow": null,
            "grid_auto_rows": null,
            "grid_column": null,
            "grid_gap": null,
            "grid_row": null,
            "grid_template_areas": null,
            "grid_template_columns": null,
            "grid_template_rows": null,
            "height": null,
            "justify_content": null,
            "justify_items": null,
            "left": null,
            "margin": null,
            "max_height": null,
            "max_width": null,
            "min_height": null,
            "min_width": null,
            "object_fit": null,
            "object_position": null,
            "order": null,
            "overflow": null,
            "overflow_x": null,
            "overflow_y": null,
            "padding": null,
            "right": null,
            "top": null,
            "visibility": null,
            "width": null
          }
        },
        "2ed88d5b4789442fb382f85c80060631": {
          "model_module": "@jupyter-widgets/controls",
          "model_name": "ProgressStyleModel",
          "model_module_version": "1.5.0",
          "state": {
            "_model_module": "@jupyter-widgets/controls",
            "_model_module_version": "1.5.0",
            "_model_name": "ProgressStyleModel",
            "_view_count": null,
            "_view_module": "@jupyter-widgets/base",
            "_view_module_version": "1.2.0",
            "_view_name": "StyleView",
            "bar_color": null,
            "description_width": ""
          }
        },
        "6e9bdba790c24f9b8527d78e20407e6b": {
          "model_module": "@jupyter-widgets/base",
          "model_name": "LayoutModel",
          "model_module_version": "1.2.0",
          "state": {
            "_model_module": "@jupyter-widgets/base",
            "_model_module_version": "1.2.0",
            "_model_name": "LayoutModel",
            "_view_count": null,
            "_view_module": "@jupyter-widgets/base",
            "_view_module_version": "1.2.0",
            "_view_name": "LayoutView",
            "align_content": null,
            "align_items": null,
            "align_self": null,
            "border": null,
            "bottom": null,
            "display": null,
            "flex": null,
            "flex_flow": null,
            "grid_area": null,
            "grid_auto_columns": null,
            "grid_auto_flow": null,
            "grid_auto_rows": null,
            "grid_column": null,
            "grid_gap": null,
            "grid_row": null,
            "grid_template_areas": null,
            "grid_template_columns": null,
            "grid_template_rows": null,
            "height": null,
            "justify_content": null,
            "justify_items": null,
            "left": null,
            "margin": null,
            "max_height": null,
            "max_width": null,
            "min_height": null,
            "min_width": null,
            "object_fit": null,
            "object_position": null,
            "order": null,
            "overflow": null,
            "overflow_x": null,
            "overflow_y": null,
            "padding": null,
            "right": null,
            "top": null,
            "visibility": null,
            "width": null
          }
        },
        "5cb40c76b9cc423d86d2a2906819202b": {
          "model_module": "@jupyter-widgets/controls",
          "model_name": "DescriptionStyleModel",
          "model_module_version": "1.5.0",
          "state": {
            "_model_module": "@jupyter-widgets/controls",
            "_model_module_version": "1.5.0",
            "_model_name": "DescriptionStyleModel",
            "_view_count": null,
            "_view_module": "@jupyter-widgets/base",
            "_view_module_version": "1.2.0",
            "_view_name": "StyleView",
            "description_width": ""
          }
        },
        "95284ab6225b46809c60326a45f76621": {
          "model_module": "@jupyter-widgets/controls",
          "model_name": "HBoxModel",
          "model_module_version": "1.5.0",
          "state": {
            "_dom_classes": [],
            "_model_module": "@jupyter-widgets/controls",
            "_model_module_version": "1.5.0",
            "_model_name": "HBoxModel",
            "_view_count": null,
            "_view_module": "@jupyter-widgets/controls",
            "_view_module_version": "1.5.0",
            "_view_name": "HBoxView",
            "box_style": "",
            "children": [
              "IPY_MODEL_cc1befcfeb4d4b249607313eacc6040a",
              "IPY_MODEL_9822472e151a4273aac4c7ee354aa921",
              "IPY_MODEL_6bd461d868184a488ed3942a97135693"
            ],
            "layout": "IPY_MODEL_48d17336e9c04053b29fb5d7ca4c2b38"
          }
        },
        "cc1befcfeb4d4b249607313eacc6040a": {
          "model_module": "@jupyter-widgets/controls",
          "model_name": "HTMLModel",
          "model_module_version": "1.5.0",
          "state": {
            "_dom_classes": [],
            "_model_module": "@jupyter-widgets/controls",
            "_model_module_version": "1.5.0",
            "_model_name": "HTMLModel",
            "_view_count": null,
            "_view_module": "@jupyter-widgets/controls",
            "_view_module_version": "1.5.0",
            "_view_name": "HTMLView",
            "description": "",
            "description_tooltip": null,
            "layout": "IPY_MODEL_a4e5ddd1fc1b45ccbc744073559a9c8a",
            "placeholder": "​",
            "style": "IPY_MODEL_c567c1257e41476595e02c801c08a570",
            "value": "pytorch_model.bin: 100%"
          }
        },
        "9822472e151a4273aac4c7ee354aa921": {
          "model_module": "@jupyter-widgets/controls",
          "model_name": "FloatProgressModel",
          "model_module_version": "1.5.0",
          "state": {
            "_dom_classes": [],
            "_model_module": "@jupyter-widgets/controls",
            "_model_module_version": "1.5.0",
            "_model_name": "FloatProgressModel",
            "_view_count": null,
            "_view_module": "@jupyter-widgets/controls",
            "_view_module_version": "1.5.0",
            "_view_name": "ProgressView",
            "bar_style": "success",
            "description": "",
            "description_tooltip": null,
            "layout": "IPY_MODEL_775b27404b07439db08b892c7bf223cb",
            "max": 440509027,
            "min": 0,
            "orientation": "horizontal",
            "style": "IPY_MODEL_4163e2b85e884cc6a2a4f3d284e35552",
            "value": 440509027
          }
        },
        "6bd461d868184a488ed3942a97135693": {
          "model_module": "@jupyter-widgets/controls",
          "model_name": "HTMLModel",
          "model_module_version": "1.5.0",
          "state": {
            "_dom_classes": [],
            "_model_module": "@jupyter-widgets/controls",
            "_model_module_version": "1.5.0",
            "_model_name": "HTMLModel",
            "_view_count": null,
            "_view_module": "@jupyter-widgets/controls",
            "_view_module_version": "1.5.0",
            "_view_name": "HTMLView",
            "description": "",
            "description_tooltip": null,
            "layout": "IPY_MODEL_fa0a77f9aced4ca482933dd2389d9aad",
            "placeholder": "​",
            "style": "IPY_MODEL_aa813dfa0e9342f1861e709f1791f167",
            "value": " 441M/441M [00:02&lt;00:00, 170MB/s]"
          }
        },
        "48d17336e9c04053b29fb5d7ca4c2b38": {
          "model_module": "@jupyter-widgets/base",
          "model_name": "LayoutModel",
          "model_module_version": "1.2.0",
          "state": {
            "_model_module": "@jupyter-widgets/base",
            "_model_module_version": "1.2.0",
            "_model_name": "LayoutModel",
            "_view_count": null,
            "_view_module": "@jupyter-widgets/base",
            "_view_module_version": "1.2.0",
            "_view_name": "LayoutView",
            "align_content": null,
            "align_items": null,
            "align_self": null,
            "border": null,
            "bottom": null,
            "display": null,
            "flex": null,
            "flex_flow": null,
            "grid_area": null,
            "grid_auto_columns": null,
            "grid_auto_flow": null,
            "grid_auto_rows": null,
            "grid_column": null,
            "grid_gap": null,
            "grid_row": null,
            "grid_template_areas": null,
            "grid_template_columns": null,
            "grid_template_rows": null,
            "height": null,
            "justify_content": null,
            "justify_items": null,
            "left": null,
            "margin": null,
            "max_height": null,
            "max_width": null,
            "min_height": null,
            "min_width": null,
            "object_fit": null,
            "object_position": null,
            "order": null,
            "overflow": null,
            "overflow_x": null,
            "overflow_y": null,
            "padding": null,
            "right": null,
            "top": null,
            "visibility": null,
            "width": null
          }
        },
        "a4e5ddd1fc1b45ccbc744073559a9c8a": {
          "model_module": "@jupyter-widgets/base",
          "model_name": "LayoutModel",
          "model_module_version": "1.2.0",
          "state": {
            "_model_module": "@jupyter-widgets/base",
            "_model_module_version": "1.2.0",
            "_model_name": "LayoutModel",
            "_view_count": null,
            "_view_module": "@jupyter-widgets/base",
            "_view_module_version": "1.2.0",
            "_view_name": "LayoutView",
            "align_content": null,
            "align_items": null,
            "align_self": null,
            "border": null,
            "bottom": null,
            "display": null,
            "flex": null,
            "flex_flow": null,
            "grid_area": null,
            "grid_auto_columns": null,
            "grid_auto_flow": null,
            "grid_auto_rows": null,
            "grid_column": null,
            "grid_gap": null,
            "grid_row": null,
            "grid_template_areas": null,
            "grid_template_columns": null,
            "grid_template_rows": null,
            "height": null,
            "justify_content": null,
            "justify_items": null,
            "left": null,
            "margin": null,
            "max_height": null,
            "max_width": null,
            "min_height": null,
            "min_width": null,
            "object_fit": null,
            "object_position": null,
            "order": null,
            "overflow": null,
            "overflow_x": null,
            "overflow_y": null,
            "padding": null,
            "right": null,
            "top": null,
            "visibility": null,
            "width": null
          }
        },
        "c567c1257e41476595e02c801c08a570": {
          "model_module": "@jupyter-widgets/controls",
          "model_name": "DescriptionStyleModel",
          "model_module_version": "1.5.0",
          "state": {
            "_model_module": "@jupyter-widgets/controls",
            "_model_module_version": "1.5.0",
            "_model_name": "DescriptionStyleModel",
            "_view_count": null,
            "_view_module": "@jupyter-widgets/base",
            "_view_module_version": "1.2.0",
            "_view_name": "StyleView",
            "description_width": ""
          }
        },
        "775b27404b07439db08b892c7bf223cb": {
          "model_module": "@jupyter-widgets/base",
          "model_name": "LayoutModel",
          "model_module_version": "1.2.0",
          "state": {
            "_model_module": "@jupyter-widgets/base",
            "_model_module_version": "1.2.0",
            "_model_name": "LayoutModel",
            "_view_count": null,
            "_view_module": "@jupyter-widgets/base",
            "_view_module_version": "1.2.0",
            "_view_name": "LayoutView",
            "align_content": null,
            "align_items": null,
            "align_self": null,
            "border": null,
            "bottom": null,
            "display": null,
            "flex": null,
            "flex_flow": null,
            "grid_area": null,
            "grid_auto_columns": null,
            "grid_auto_flow": null,
            "grid_auto_rows": null,
            "grid_column": null,
            "grid_gap": null,
            "grid_row": null,
            "grid_template_areas": null,
            "grid_template_columns": null,
            "grid_template_rows": null,
            "height": null,
            "justify_content": null,
            "justify_items": null,
            "left": null,
            "margin": null,
            "max_height": null,
            "max_width": null,
            "min_height": null,
            "min_width": null,
            "object_fit": null,
            "object_position": null,
            "order": null,
            "overflow": null,
            "overflow_x": null,
            "overflow_y": null,
            "padding": null,
            "right": null,
            "top": null,
            "visibility": null,
            "width": null
          }
        },
        "4163e2b85e884cc6a2a4f3d284e35552": {
          "model_module": "@jupyter-widgets/controls",
          "model_name": "ProgressStyleModel",
          "model_module_version": "1.5.0",
          "state": {
            "_model_module": "@jupyter-widgets/controls",
            "_model_module_version": "1.5.0",
            "_model_name": "ProgressStyleModel",
            "_view_count": null,
            "_view_module": "@jupyter-widgets/base",
            "_view_module_version": "1.2.0",
            "_view_name": "StyleView",
            "bar_color": null,
            "description_width": ""
          }
        },
        "fa0a77f9aced4ca482933dd2389d9aad": {
          "model_module": "@jupyter-widgets/base",
          "model_name": "LayoutModel",
          "model_module_version": "1.2.0",
          "state": {
            "_model_module": "@jupyter-widgets/base",
            "_model_module_version": "1.2.0",
            "_model_name": "LayoutModel",
            "_view_count": null,
            "_view_module": "@jupyter-widgets/base",
            "_view_module_version": "1.2.0",
            "_view_name": "LayoutView",
            "align_content": null,
            "align_items": null,
            "align_self": null,
            "border": null,
            "bottom": null,
            "display": null,
            "flex": null,
            "flex_flow": null,
            "grid_area": null,
            "grid_auto_columns": null,
            "grid_auto_flow": null,
            "grid_auto_rows": null,
            "grid_column": null,
            "grid_gap": null,
            "grid_row": null,
            "grid_template_areas": null,
            "grid_template_columns": null,
            "grid_template_rows": null,
            "height": null,
            "justify_content": null,
            "justify_items": null,
            "left": null,
            "margin": null,
            "max_height": null,
            "max_width": null,
            "min_height": null,
            "min_width": null,
            "object_fit": null,
            "object_position": null,
            "order": null,
            "overflow": null,
            "overflow_x": null,
            "overflow_y": null,
            "padding": null,
            "right": null,
            "top": null,
            "visibility": null,
            "width": null
          }
        },
        "aa813dfa0e9342f1861e709f1791f167": {
          "model_module": "@jupyter-widgets/controls",
          "model_name": "DescriptionStyleModel",
          "model_module_version": "1.5.0",
          "state": {
            "_model_module": "@jupyter-widgets/controls",
            "_model_module_version": "1.5.0",
            "_model_name": "DescriptionStyleModel",
            "_view_count": null,
            "_view_module": "@jupyter-widgets/base",
            "_view_module_version": "1.2.0",
            "_view_name": "StyleView",
            "description_width": ""
          }
        }
      }
    }
  },
  "cells": [
    {
      "cell_type": "code",
      "execution_count": 1,
      "metadata": {
        "id": "MWhpg1lSdUfH"
      },
      "outputs": [],
      "source": [
        "import torch\n",
        "from transformers import AutoTokenizer, AutoModel\n",
        "import numpy as np\n",
        "from collections import Counter\n",
        "import re\n",
        "import pandas as pd"
      ]
    },
    {
      "cell_type": "code",
      "source": [
        "syllables = [\n",
        "  [\"ma\", \"si\", \"mu\", \"zu\", \"da\", \"jo\", \"ke\", \"py\", \"za\"],\n",
        "  [\"vo\", \"lu\", \"re\", \"vi\", \"zo\", \"be\", \"ru\", \"pe\", \"te\"],\n",
        "  [\"suk\", \"mák\", \"nos\", \"sen\", \"výr\", \"mech\", \"len\", \"gól\", \"cíp\"],\n",
        "  [\"nov\", \"lar\", \"for\", \"zul\", \"bed\", \"lum\", \"nev\", \"zek\", \"vod\"],\n",
        "  [\"vl\", \"bz\", \"hr\", \"dr\", \"sl\", \"kr\", \"ol\", \"ml\", \"fr\"],\n",
        "  [\"tra\", \"mle\", \"tve\", \"kro\", \"dlu\", \"sku\", \"bru\", \"pla\", \"klu\"],\n",
        "  [\"vle\", \"tra\", \"mru\", \"čle\", \"chlu\", \"pro\", \"zlu\", \"sla\", \"fro\"],\n",
        "  [\"pluh\", \"hrom\", \"mlýn\", \"dnes\", \"plot\", \"zvuk\", \"vnuk\", \"lhář\", \"kmen\"],\n",
        "  [\"vpád\", \"stop\", \"hned\", \"vkus\", \"chlup\", \"zrak\", \"plat\", \"vrak\", \"zvon\"],\n",
        "  [\"tvrz\", \"skrz\", \"smrt\", \"brnk\", \"smrk\", \"blesk\", \"štěrk\", \"kvést\", \"bronz\"]\n",
        "]"
      ],
      "metadata": {
        "id": "tcIa7d6xdXgm"
      },
      "execution_count": 2,
      "outputs": []
    },
    {
      "cell_type": "code",
      "source": [
        "meaningfulText = [\n",
        "    \"Malý Pepík raději četl doma knížky plné dobrodružství, než aby skotačil s dětmi venku.\",\n",
        "    \"Možná k tomu přispěla i nemocná noha, která mu mnohé neplechy znemožňovala. Raději se\",\n",
        "    \"proto ponořil do příběhů plných plížících se indiánů, odvážných zálesáků nebo zlotřilých\",\n",
        "    \"pirátů. Občas smutně vyhlédl z okna na hrající si kamarády a sledoval zpovzdálí jejich\",\n",
        "    \"rozpustilou hru. Jednoho dne, když se jako obvykle díval částečně ukrytý za záclonou, si\",\n",
        "    \"uvědomil, že nějaký stín se jako blesk pohybuje po stromě nahoru a dolů. Malá hnědá a velice\",\n",
        "    \"hbitá veverka šmejdila po stromě a hledala oříšky, které by si uschovala do tajné skrýše.\"\n",
        "]"
      ],
      "metadata": {
        "id": "FYa8ZlRVde-_"
      },
      "execution_count": 3,
      "outputs": []
    },
    {
      "cell_type": "code",
      "source": [
        "pseudoText = [\n",
        "    \"Vůrnice lobu saná ladiv. Šini se zonaj olitače a jiprá tibý sa takode koumi toudíc. Vazpíla\",\n",
        "    \"mupotá, sidóla lib mozdá, rompulo sa řazvíty. Hoče se hašlá řilozá stým a ravízda. Douje\",\n",
        "    \"bocha šakve lámě. Tašelá sně pronitě šere. Každépo rytách pronity harto e šere chlera dlypo.\",\n",
        "    \"Desedé a haralice o kačeza te krozdoníka. Krozdoník subaj šelprí kýmlech remhol s\",\n",
        "    \"hanymítory šeremi pakaty um zysly iz trpní sných krá tůkva. Humo tebi mecipo? Požeš meny,\",\n",
        "    \"kada tasnepře bličovasa muto dinéje, roč mitulore. Subaj límal vůrnice ka libe. Šelprí tadýt a\",\n",
        "    \"ruěvin le. Myja lépa dodim aki toukané ili lédé. Matako tudom lehou řepine.\"\n",
        "]"
      ],
      "metadata": {
        "id": "sCWJNdg0dcu3"
      },
      "execution_count": 4,
      "outputs": []
    },
    {
      "cell_type": "code",
      "source": [
        "# Load Czech BERT model\n",
        "model_name = \"UWB-AIR/Czert-B-base-cased\"  # Czech BERT model\n",
        "tokenizer = AutoTokenizer.from_pretrained(model_name)\n",
        "model = AutoModel.from_pretrained(model_name)"
      ],
      "metadata": {
        "colab": {
          "base_uri": "https://localhost:8080/",
          "height": 304,
          "referenced_widgets": [
            "1dff409537ce43abb87eba71cd6d0c53",
            "01c508e5607a45b0976dc249497436e5",
            "be6e314c47b74edbbe6ce6ba8f99fae2",
            "3dbf4e81bdef456d8d664f9bf223675d",
            "ef67d859ab4242dd846f73deff852839",
            "3fb7dd10c88046a7989636d866a40116",
            "d67fd10c20d54da4aa813e07487a9857",
            "3a0b553cf85b492f8174c1ce8c4a5e03",
            "d23c895c078643e3a555ed0f938b80e2",
            "6257a6a98dc84201b3cf9dca37f56157",
            "73c352481dd44742aaf82c23c1bfb5ab",
            "112489a9fed14e7b943267665cf2717d",
            "6edcacbde4be440eb6e5d1a7d41ccb69",
            "ecf76daa4d364d2aa8f8aafdedfe618a",
            "4efa2eba70f449279969f425468ab370",
            "2c15bd9e27d74458bc8b307d8dbb26db",
            "a808e1e106f649599f5ab51e726f4b8f",
            "5f0447ce4d2c44efbbebe6e3abcd0942",
            "6f09ebc1e670431fb7706ff532c1aff5",
            "a810881112fc4f8a894e20e7f8f9e859",
            "dc3bdf3944684260b365e7692e4612eb",
            "ec4bac77716c441092e14090d6818b84",
            "90ea4bef3db74a0b9879f2d2f9d98618",
            "e54ba268f4fd4f54959470dd59a50f52",
            "7c2ca7c4580a40df93df51798c7afcea",
            "2b5ece8ef4f64893be277d3ee83aa23a",
            "59575de8654b4d3a8f24b701b4c03739",
            "4669df66bdf74f6baa35c99f7cf6e7f7",
            "c3503d87dba64364b5c4c2d89781aa75",
            "b86d65a6f7534abcb1539d88e6f96706",
            "04eb18c4f1b348c681982e12d81bb8e0",
            "10f5fe90a0ad47dd96c4a4d1cff8a9c9",
            "1d63ad4fd8d7437f96f26e10efcc5c53",
            "436c95957ecb43ffaa591ad7cfe141c3",
            "81318cadeda244b68fa1e6c681f274f9",
            "79cd38460cee45b19b6676c4e8793942",
            "529e9a62ab4143f8a6f65c807fcc1342",
            "599cb47103cd4df89f2afa31a279396a",
            "afcf8a993a334d888881d464600f3418",
            "a303e98b7ed2421b924963a2d64b6d60",
            "7e8189d4a1854a3c9953bf8b6d0a0028",
            "2ed88d5b4789442fb382f85c80060631",
            "6e9bdba790c24f9b8527d78e20407e6b",
            "5cb40c76b9cc423d86d2a2906819202b",
            "95284ab6225b46809c60326a45f76621",
            "cc1befcfeb4d4b249607313eacc6040a",
            "9822472e151a4273aac4c7ee354aa921",
            "6bd461d868184a488ed3942a97135693",
            "48d17336e9c04053b29fb5d7ca4c2b38",
            "a4e5ddd1fc1b45ccbc744073559a9c8a",
            "c567c1257e41476595e02c801c08a570",
            "775b27404b07439db08b892c7bf223cb",
            "4163e2b85e884cc6a2a4f3d284e35552",
            "fa0a77f9aced4ca482933dd2389d9aad",
            "aa813dfa0e9342f1861e709f1791f167"
          ]
        },
        "id": "Ro-rIDzKdcaJ",
        "outputId": "24d90fc8-77d3-4788-a289-f7373458e476"
      },
      "execution_count": 5,
      "outputs": [
        {
          "output_type": "stream",
          "name": "stderr",
          "text": [
            "/usr/local/lib/python3.11/dist-packages/huggingface_hub/utils/_auth.py:94: UserWarning: \n",
            "The secret `HF_TOKEN` does not exist in your Colab secrets.\n",
            "To authenticate with the Hugging Face Hub, create a token in your settings tab (https://huggingface.co/settings/tokens), set it as secret in your Google Colab and restart your session.\n",
            "You will be able to reuse this secret in all of your notebooks.\n",
            "Please note that authentication is recommended but still optional to access public models or datasets.\n",
            "  warnings.warn(\n"
          ]
        },
        {
          "output_type": "display_data",
          "data": {
            "text/plain": [
              "tokenizer_config.json:   0%|          | 0.00/161 [00:00<?, ?B/s]"
            ],
            "application/vnd.jupyter.widget-view+json": {
              "version_major": 2,
              "version_minor": 0,
              "model_id": "1dff409537ce43abb87eba71cd6d0c53"
            }
          },
          "metadata": {}
        },
        {
          "output_type": "display_data",
          "data": {
            "text/plain": [
              "config.json:   0%|          | 0.00/675 [00:00<?, ?B/s]"
            ],
            "application/vnd.jupyter.widget-view+json": {
              "version_major": 2,
              "version_minor": 0,
              "model_id": "112489a9fed14e7b943267665cf2717d"
            }
          },
          "metadata": {}
        },
        {
          "output_type": "display_data",
          "data": {
            "text/plain": [
              "vocab.txt:   0%|          | 0.00/214k [00:00<?, ?B/s]"
            ],
            "application/vnd.jupyter.widget-view+json": {
              "version_major": 2,
              "version_minor": 0,
              "model_id": "90ea4bef3db74a0b9879f2d2f9d98618"
            }
          },
          "metadata": {}
        },
        {
          "output_type": "display_data",
          "data": {
            "text/plain": [
              "special_tokens_map.json:   0%|          | 0.00/112 [00:00<?, ?B/s]"
            ],
            "application/vnd.jupyter.widget-view+json": {
              "version_major": 2,
              "version_minor": 0,
              "model_id": "436c95957ecb43ffaa591ad7cfe141c3"
            }
          },
          "metadata": {}
        },
        {
          "output_type": "display_data",
          "data": {
            "text/plain": [
              "pytorch_model.bin:   0%|          | 0.00/441M [00:00<?, ?B/s]"
            ],
            "application/vnd.jupyter.widget-view+json": {
              "version_major": 2,
              "version_minor": 0,
              "model_id": "95284ab6225b46809c60326a45f76621"
            }
          },
          "metadata": {}
        }
      ]
    },
    {
      "cell_type": "code",
      "source": [
        "# Define Czech vowels and consonants\n",
        "czech_vowels = \"aáeéěiíoóuúůyý\"\n",
        "czech_consonants = \"bcčdďfghjklmnňpqrřsštťvwxzž\""
      ],
      "metadata": {
        "id": "m8WqHWGwdjCC"
      },
      "execution_count": 6,
      "outputs": []
    },
    {
      "cell_type": "markdown",
      "source": [
        "# **I. Phonetic-Orthographic Complexity Features**"
      ],
      "metadata": {
        "id": "a85eZnWzd-CV"
      }
    },
    {
      "cell_type": "code",
      "source": [
        "def is_vowel(char):\n",
        "    return char.lower() in czech_vowels\n",
        "\n",
        "def is_consonant(char):\n",
        "    return char.lower() in czech_consonants"
      ],
      "metadata": {
        "id": "hRveMM22eAmC"
      },
      "execution_count": 7,
      "outputs": []
    },
    {
      "cell_type": "code",
      "source": [
        "def get_consonant_clusters(word):\n",
        "    \"\"\"Extract consonant clusters from a word.\"\"\"\n",
        "    clusters = []\n",
        "    current_cluster = \"\"\n",
        "\n",
        "    for char in word.lower():\n",
        "        if is_consonant(char):\n",
        "            current_cluster += char\n",
        "        else:\n",
        "            if current_cluster:\n",
        "                clusters.append(current_cluster)\n",
        "                current_cluster = \"\"\n",
        "\n",
        "    if current_cluster:  # Add final cluster if word ends with consonants\n",
        "        clusters.append(current_cluster)\n",
        "\n",
        "    return clusters"
      ],
      "metadata": {
        "id": "msPvFuSfeEpN"
      },
      "execution_count": 8,
      "outputs": []
    },
    {
      "cell_type": "code",
      "source": [
        "def calculate_cluster_density(word):\n",
        "    \"\"\"Calculate the ratio of consonant clusters to total characters.\"\"\"\n",
        "    clusters = get_consonant_clusters(word)\n",
        "    cluster_chars = sum(len(cluster) for cluster in clusters)\n",
        "    return cluster_chars / len(word) if len(word) > 0 else 0"
      ],
      "metadata": {
        "id": "prPC8hxZeHml"
      },
      "execution_count": 9,
      "outputs": []
    },
    {
      "cell_type": "code",
      "source": [
        "def calculate_vowel_positions(word):\n",
        "    \"\"\"Calculate the positions of vowels in the word.\"\"\"\n",
        "    positions = []\n",
        "    for i, char in enumerate(word.lower()):\n",
        "        if is_vowel(char):\n",
        "            positions.append(i)\n",
        "    return positions"
      ],
      "metadata": {
        "id": "niTjuKXceJQ4"
      },
      "execution_count": 10,
      "outputs": []
    },
    {
      "cell_type": "code",
      "source": [
        "def sonority_score(phoneme):\n",
        "    \"\"\"\n",
        "    Calculate sonority score for a phoneme based on the Sonority Sequencing Principle.\n",
        "    Higher values = more sonorous.\n",
        "    \"\"\"\n",
        "    sonority_scale = {\n",
        "    # Vowels (PEAK = 10) - Length irrelevant for SSP\n",
        "    'a':10, 'á':10, 'e':10, 'é':10, 'ě':10, 'i':10, 'í':10,\n",
        "    'o':10, 'ó':10, 'u':10, 'ú':10, 'ů':10, 'y':10, 'ý':10,\n",
        "\n",
        "    # Glides (9) - Higher than liquids\n",
        "    'j':9,\n",
        "\n",
        "    # Liquids (7) - Includes Czech-specific ř\n",
        "    'l':7, 'r':7, 'ř':7,\n",
        "\n",
        "    # Nasals (5)\n",
        "    'm':5, 'n':5, 'ň':5,\n",
        "\n",
        "    # Fricatives (3) - Voiced/Voiceless same tier\n",
        "    'v':3, 'z':3, 'ž':3, 's':3, 'š':3, 'f':3, 'h':3, 'ch':3,\n",
        "\n",
        "    # Affricates (2) - Treat as stops\n",
        "    'c':2, 'č':2, 'dz':2, 'dž':2,\n",
        "\n",
        "    # Stops (1) - Voicing irrelevant for SSP\n",
        "    'b':1, 'd':1, 'ď':1, 'g':1, 'p':1, 't':1, 'ť':1, 'k':1\n",
        "}\n",
        "    return sonority_scale.get(phoneme.lower(), 0)"
      ],
      "metadata": {
        "id": "TZa7H50seN7Q"
      },
      "execution_count": 11,
      "outputs": []
    },
    {
      "cell_type": "code",
      "source": [
        "def calculate_ssp_naturalness(cluster, sonority_scale,  position='onset'):\n",
        "    \"\"\"\n",
        "    Calculate SSP compliance with Czech-specific adjustments.\n",
        "    Returns: 0 (perfect compliance) to 1 (severe violation)\n",
        "    \"\"\"\n",
        "    if len(cluster) <= 1:\n",
        "        return 0.0\n",
        "\n",
        "    scores = [sonority_scale[c] for c in cluster]\n",
        "    peak_idx = scores.index(max(scores))\n",
        "\n",
        "    # Czech-specific SSP rules\n",
        "    if position == 'onset':\n",
        "        # Onset requires rising sonority to peak\n",
        "        pre_peak = scores[:peak_idx]\n",
        "        return sum(1 for i in range(1, len(pre_peak)) if pre_peak[i] <= pre_peak[i-1])/len(cluster)\n",
        "\n",
        "    elif position == 'coda':\n",
        "        # Coda requires falling sonority from peak\n",
        "        post_peak = scores[peak_idx+1:]\n",
        "        return sum(1 for i in range(1, len(post_peak)) if post_peak[i] >= post_peak[i-1])/len(cluster)\n",
        "\n",
        "    else:  # Ambiguous position\n",
        "        onset_errors = sum(1 for i in range(1, len(scores)) if scores[i] <= scores[i-1])\n",
        "        coda_errors = sum(1 for i in range(1, len(scores)) if scores[i] >= scores[i-1])\n",
        "        return min(onset_errors, coda_errors)/len(cluster)\n"
      ],
      "metadata": {
        "id": "yfd9XPs4eR7g"
      },
      "execution_count": 12,
      "outputs": []
    },
    {
      "cell_type": "code",
      "source": [
        "def orthographic_transparency(word):\n",
        "    \"\"\"\n",
        "    Calculate orthographic transparency based on letter-to-sound mapping complexity.\n",
        "    Lower scores mean more transparent (consistent) spelling.\n",
        "    \"\"\"\n",
        "    # Define ambiguous graphemes in Czech\n",
        "    ambiguous_graphemes = {\n",
        "        'ě': 1.5,  # Affects pronunciation of preceding consonant\n",
        "        'ů': 1.2,  # Historical alternation with 'ó'\n",
        "        'x': 1.5,  # Represents two phonemes /ks/\n",
        "        'q': 1.5,  # Foreign letter representing /kv/ sequence\n",
        "        'w': 1.2,  # Foreign letter\n",
        "        'ch': 1.3,  # Digraph representing single phoneme\n",
        "        'dž': 1.3,  # Digraph\n",
        "        'au': 1.2,  # Diphthong\n",
        "        'eu': 1.2,  # Diphthong\n",
        "        'ou': 1.2,  # Diphthong\n",
        "    }\n",
        "\n",
        "    score = 1.0  # Base transparency score\n",
        "\n",
        "    # Check for ambiguous graphemes\n",
        "    for grapheme, penalty in ambiguous_graphemes.items():\n",
        "        if grapheme in word.lower():\n",
        "            score *= penalty\n",
        "\n",
        "    # Check for diacritics\n",
        "    diacritics = 'áéěíóúůýčďňřšťž'\n",
        "    for char in diacritics:\n",
        "        if char in word.lower():\n",
        "            score *= 1.1  # Small penalty for diacritics\n",
        "\n",
        "    return score"
      ],
      "metadata": {
        "id": "6sDPCYU8eVdz"
      },
      "execution_count": null,
      "outputs": []
    },
    {
      "cell_type": "markdown",
      "source": [
        "# **II. Syllable Structure Features**"
      ],
      "metadata": {
        "id": "ezn17RE0eWsL"
      }
    },
    {
      "cell_type": "code",
      "source": [
        "def identify_syllable_type(syllable):\n",
        "    \"\"\"\n",
        "    Identify the type of syllable structure (CV, CVC, CC, CCV, CCCV, etc.)\n",
        "    \"\"\"\n",
        "    pattern = \"\"\n",
        "    for char in syllable.lower():\n",
        "        if is_vowel(char):\n",
        "            pattern += \"V\"\n",
        "        elif is_consonant(char):\n",
        "            pattern += \"C\"\n",
        "        else:\n",
        "            pattern += \"X\"  # For non-letter characters\n",
        "\n",
        "    return pattern"
      ],
      "metadata": {
        "id": "ASK9FJtaebu3"
      },
      "execution_count": null,
      "outputs": []
    },
    {
      "cell_type": "code",
      "source": [
        "def syllable_difficulty_score(syllable):\n",
        "    \"\"\"\n",
        "    Calculate difficulty score based on syllable type.\n",
        "    Higher score = more difficult.\n",
        "    \"\"\"\n",
        "    pattern = identify_syllable_type(syllable)\n",
        "\n",
        "    difficulty_map = {\n",
        "        \"CV\": 1,       # Low difficulty (open syllable)\n",
        "        \"CVC\": 2,      # Moderate difficulty (closed syllable)\n",
        "        \"VC\": 1.5,     # Moderate-low\n",
        "        \"V\": 1,        # Low (just a vowel)\n",
        "        \"CC\": 3,       # High (consonant only)\n",
        "        \"CCV\": 3,      # High (consonant cluster + vowel)\n",
        "        \"CCCV\": 4,     # Very high (complex cluster + vowel)\n",
        "        \"CCVC\": 3.5,   # High (cluster + vowel + consonant)\n",
        "        \"CCCVC\": 4.5,  # Very high (complex)\n",
        "        \"CVCC\": 3,     # High (vowel + consonant cluster)\n",
        "        \"CCVCC\": 4     # Very high (complex)\n",
        "    }\n",
        "\n",
        "    # Default difficulty for unlisted patterns: calculate based on consonant clusters\n",
        "    default_difficulty = 1 + (pattern.count(\"C\") / 2.0)\n",
        "\n",
        "    return difficulty_map.get(pattern, default_difficulty)"
      ],
      "metadata": {
        "id": "mEm7hfp2ed2F"
      },
      "execution_count": null,
      "outputs": []
    },
    {
      "cell_type": "code",
      "source": [
        "def positional_difficulty(syllable, matrix_position):\n",
        "    \"\"\"\n",
        "    Calculate positional difficulty based on matrix position.\n",
        "    As provided in your pseudocode.\n",
        "    \"\"\"\n",
        "    row_num, col_num = matrix_position\n",
        "    base_difficulty = syllable_difficulty_score(syllable)\n",
        "    row_weight = 0.8**(9 - row_num)  # Lower rows = harder\n",
        "    col_weight = 1 + (col_num/10)*0.2  # Rightward progression\n",
        "    return base_difficulty * row_weight * col_weight"
      ],
      "metadata": {
        "id": "SrtmI1-pegYB"
      },
      "execution_count": null,
      "outputs": []
    },
    {
      "cell_type": "code",
      "source": [
        "def syllable_boundary_ambiguity(word):\n",
        "    \"\"\"\n",
        "    Estimate the ambiguity of syllable boundaries.\n",
        "    Higher score means more ambiguous boundaries.\n",
        "    \"\"\"\n",
        "    # Identify possible syllable boundary positions\n",
        "    possible_boundaries = []\n",
        "\n",
        "    for i in range(1, len(word)-1):\n",
        "        # Common boundary cases: between vowel and consonant\n",
        "        if is_vowel(word[i-1]) and is_consonant(word[i]):\n",
        "            possible_boundaries.append(i)\n",
        "        # Between two consonants (depends on sonority)\n",
        "        elif is_consonant(word[i-1]) and is_consonant(word[i]):\n",
        "            son1 = sonority_score(word[i-1])\n",
        "            son2 = sonority_score(word[i])\n",
        "            # Decreasing sonority often indicates a syllable boundary\n",
        "            if son1 > son2:\n",
        "                possible_boundaries.append(i)\n",
        "\n",
        "    # Calculate ambiguity based on multiple possible boundaries\n",
        "    return len(possible_boundaries)"
      ],
      "metadata": {
        "id": "LmIAHY1dejL6"
      },
      "execution_count": null,
      "outputs": []
    },
    {
      "cell_type": "markdown",
      "source": [
        "# **III. Psycholinguistic Features**"
      ],
      "metadata": {
        "id": "i5blnY8Qel_H"
      }
    },
    {
      "cell_type": "code",
      "source": [
        "def is_meaningful(word, model, tokenizer):\n",
        "    \"\"\"\n",
        "    Determine if a word is meaningful based on BERT embedding properties.\n",
        "    Returns a confidence score (higher = more likely meaningful).\n",
        "    \"\"\"\n",
        "    # Encode the word\n",
        "    inputs = tokenizer(word, return_tensors=\"pt\")\n",
        "\n",
        "    with torch.no_grad():\n",
        "        outputs = model(**inputs)\n",
        "        embeddings = outputs.last_hidden_state\n",
        "\n",
        "    # Calculate vector norm (magnitude) - real words tend to have more focused embedding\n",
        "    embedding_norm = torch.norm(embeddings).item()\n",
        "\n",
        "    # Calculate entropy of the embedding - real words have lower entropy\n",
        "    embedding_flat = embeddings.flatten().numpy()\n",
        "    embedding_probabilities = np.abs(embedding_flat) / np.sum(np.abs(embedding_flat))\n",
        "    entropy = -np.sum(embedding_probabilities * np.log2(embedding_probabilities + 1e-10))\n",
        "\n",
        "    # Combine metrics (normalized to 0-1 range)\n",
        "    normalized_norm = min(1.0, embedding_norm / 20.0)  # Normalize with reasonable upper limit\n",
        "    normalized_entropy = max(0.0, 1.0 - (entropy / 10.0))  # Invert entropy\n",
        "\n",
        "    meaningfulness_score = 0.6 * normalized_norm + 0.4 * normalized_entropy\n",
        "\n",
        "    return meaningfulness_score"
      ],
      "metadata": {
        "id": "auhnKkvUepU-"
      },
      "execution_count": null,
      "outputs": []
    },
    {
      "cell_type": "code",
      "source": [
        "def calculate_neighborhood_density(word, word_list):\n",
        "    \"\"\"\n",
        "    Calculate phonological neighborhood density.\n",
        "    Counts words that differ by a single phoneme.\n",
        "    \"\"\"\n",
        "    neighborhood = 0\n",
        "\n",
        "    for other_word in word_list:\n",
        "        if word != other_word and len(word) == len(other_word):\n",
        "            differences = sum(1 for a, b in zip(word, other_word) if a != b)\n",
        "            if differences == 1:\n",
        "                neighborhood += 1\n",
        "\n",
        "    return neighborhood"
      ],
      "metadata": {
        "id": "jbZRpxUWerJa"
      },
      "execution_count": null,
      "outputs": []
    },
    {
      "cell_type": "code",
      "source": [
        "def morphological_complexity(word):\n",
        "    \"\"\"\n",
        "    Estimate morphological complexity based on affixes and palatalization.\n",
        "    Higher score = more complex.\n",
        "    \"\"\"\n",
        "    score = 1.0\n",
        "\n",
        "    # Check for common Czech prefixes\n",
        "    prefixes = [\"na\", \"od\", \"po\", \"pro\", \"pře\", \"při\", \"roz\", \"s\", \"u\", \"v\", \"vy\", \"z\", \"za\"]\n",
        "    for prefix in prefixes:\n",
        "        if word.lower().startswith(prefix):\n",
        "            score += 0.5\n",
        "            break\n",
        "\n",
        "    # Check for common Czech suffixes\n",
        "    suffixes = [\"ost\", \"ství\", \"tel\", \"ce\", \"ník\", \"ík\", \"ka\", \"ek\", \"ice\", \"ina\"]\n",
        "    for suffix in suffixes:\n",
        "        if word.lower().endswith(suffix):\n",
        "            score += 0.5\n",
        "            break\n",
        "\n",
        "    # Check for palatalization patterns\n",
        "    palatalization_pairs = [\n",
        "        (\"t\", \"ť\"), (\"d\", \"ď\"), (\"n\", \"ň\"),\n",
        "        (\"k\", \"č\"), (\"h\", \"ž\"), (\"ch\", \"š\")\n",
        "    ]\n",
        "\n",
        "    for base, palatalized in palatalization_pairs:\n",
        "        if base in word and palatalized in word:\n",
        "            score += 0.3\n",
        "\n",
        "    return score"
      ],
      "metadata": {
        "id": "FiMa4r2jeu5h"
      },
      "execution_count": null,
      "outputs": []
    },
    {
      "cell_type": "markdown",
      "source": [
        "# **IV. Visual-Linguistic Interaction Features**"
      ],
      "metadata": {
        "id": "-tkch9Ocewad"
      }
    },
    {
      "cell_type": "code",
      "source": [
        "def letter_confusability_score(word):\n",
        "    \"\"\"\n",
        "    Calculate confusability score based on visually similar letters.\n",
        "    Higher score = more confusable letters.\n",
        "    \"\"\"\n",
        "    confusable_groups = [\n",
        "        [\"b\", \"d\", \"p\", \"q\"],  # Mirror/rotation confusable\n",
        "        [\"m\", \"n\", \"u\"],       # Similar shapes\n",
        "        [\"i\", \"j\", \"l\"],       # Minimal letters\n",
        "        [\"v\", \"w\"],            # Similar shapes\n",
        "        [\"c\", \"e\", \"o\"],       # Rounded shapes\n",
        "        [\"f\", \"t\"],            # Cross letters\n",
        "        [\"h\", \"n\"],            # Similar shapes\n",
        "        [\"š\", \"s\"],            # Diacritic variation\n",
        "        [\"č\", \"c\"],            # Diacritic variation\n",
        "        [\"ř\", \"r\"],            # Diacritic variation\n",
        "        [\"ž\", \"z\"],            # Diacritic variation\n",
        "        [\"ě\", \"e\"],            # Diacritic variation\n",
        "    ]\n",
        "\n",
        "    confusability = 0\n",
        "\n",
        "    for char in word.lower():\n",
        "        for group in confusable_groups:\n",
        "            if char in group and sum(1 for c in word.lower() if c in group) > 1:\n",
        "                confusability += 1\n",
        "\n",
        "    return confusability"
      ],
      "metadata": {
        "id": "ObQbpvxVewjd"
      },
      "execution_count": null,
      "outputs": []
    },
    {
      "cell_type": "code",
      "source": [
        "def calculate_ascender_descender_density(word):\n",
        "    \"\"\"\n",
        "    Calculate the density of letters with ascenders and descenders.\n",
        "    \"\"\"\n",
        "    ascenders = \"bdfhklťďľ\"\n",
        "    descenders = \"gjpqyý\"\n",
        "\n",
        "    ascender_count = sum(1 for c in word.lower() if c in ascenders)\n",
        "    descender_count = sum(1 for c in word.lower() if c in descenders)\n",
        "\n",
        "    return (ascender_count + descender_count) / len(word) if len(word) > 0 else 0"
      ],
      "metadata": {
        "id": "tv8bLozZfJ8h"
      },
      "execution_count": null,
      "outputs": []
    },
    {
      "cell_type": "code",
      "source": [
        "def spatial_crowding_metric(word):\n",
        "    \"\"\"\n",
        "    Calculate spatial crowding based on letter width estimates.\n",
        "    Higher values = more crowded.\n",
        "    \"\"\"\n",
        "    # Approximate width based on Times New Roman font (relative units)\n",
        "    letter_widths = {\n",
        "        'i': 0.5, 'j': 0.5, 'l': 0.5, 'I': 0.5,  # Narrow\n",
        "        'f': 0.6, 'r': 0.6, 't': 0.6,            # Narrow-medium\n",
        "        'a': 0.7, 'b': 0.7, 'c': 0.7, 'd': 0.7, 'e': 0.7, 'g': 0.7, 'h': 0.7,\n",
        "        'k': 0.7, 'n': 0.7, 'o': 0.7, 'p': 0.7, 'q': 0.7, 's': 0.7, 'u': 0.7,\n",
        "        'v': 0.7, 'x': 0.7, 'y': 0.7, 'z': 0.7,  # Medium\n",
        "        'm': 1.0, 'w': 1.0, 'ž': 0.8, 'š': 0.8, 'č': 0.8  # Wide\n",
        "    }\n",
        "\n",
        "    # Average character width\n",
        "    total_width = sum(letter_widths.get(c.lower(), 0.7) for c in word)\n",
        "    avg_width = total_width / len(word) if len(word) > 0 else 0\n",
        "\n",
        "    # Calculate variation in width (more variation = less crowded)\n",
        "    width_variation = np.std([letter_widths.get(c.lower(), 0.7) for c in word]) if len(word) > 0 else 0\n",
        "\n",
        "    # Crowding increases with density and decreases with variation\n",
        "    crowding = (1 / avg_width) * (1 / (width_variation + 0.1))\n",
        "\n",
        "    return crowding"
      ],
      "metadata": {
        "id": "sDBBX1I3fM7N"
      },
      "execution_count": null,
      "outputs": []
    },
    {
      "cell_type": "markdown",
      "source": [
        "# **Main analysis functions**"
      ],
      "metadata": {
        "id": "6f_N_BDBfRJc"
      }
    },
    {
      "cell_type": "code",
      "source": [
        "def analyze_syllable_matrix():\n",
        "    \"\"\"Analyze the matrix of syllables\"\"\"\n",
        "    results = []\n",
        "\n",
        "    flat_syllables = [item for sublist in syllables for item in sublist]\n",
        "\n",
        "    for row_idx, row in enumerate(syllables):\n",
        "        for col_idx, syllable in enumerate(row):\n",
        "            result = {\n",
        "                'syllable': syllable,\n",
        "                'row': row_idx + 1,\n",
        "                'column': col_idx + 1,\n",
        "                'syllable_type': identify_syllable_type(syllable),\n",
        "                'difficulty_score': syllable_difficulty_score(syllable),\n",
        "                'positional_difficulty': positional_difficulty(syllable, (row_idx, col_idx)),\n",
        "                'cluster_density': calculate_cluster_density(syllable),\n",
        "                'orthographic_transparency': orthographic_transparency(syllable),\n",
        "                'consonant_clusters': get_consonant_clusters(syllable),\n",
        "                'letter_confusability': letter_confusability_score(syllable),\n",
        "                'ascender_descender_density': calculate_ascender_descender_density(syllable),\n",
        "                'spatial_crowding': spatial_crowding_metric(syllable),\n",
        "                'neighborhood_density': calculate_neighborhood_density(syllable, flat_syllables)\n",
        "            }\n",
        "            results.append(result)\n",
        "\n",
        "    return pd.DataFrame(results)"
      ],
      "metadata": {
        "id": "RTQyCn2RfQ_f"
      },
      "execution_count": null,
      "outputs": []
    },
    {
      "cell_type": "code",
      "source": [
        "def analyze_text(text, is_meaningful_text=True, model=model, tokenizer=tokenizer):\n",
        "    \"\"\"Analyze a text passage word by word\"\"\"\n",
        "    # Combine text lines and split into words\n",
        "    full_text = ' '.join(text)\n",
        "    words = re.findall(r'\\w+', full_text)\n",
        "\n",
        "    results = []\n",
        "    for word in words:\n",
        "        if len(word) > 0:\n",
        "            result = {\n",
        "                'word': word,\n",
        "                'length': len(word),\n",
        "                'syllable_types': identify_syllable_type(word),\n",
        "                'difficulty_score': syllable_difficulty_score(word),\n",
        "                'cluster_density': calculate_cluster_density(word),\n",
        "                'orthographic_transparency': orthographic_transparency(word),\n",
        "                'consonant_clusters': get_consonant_clusters(word),\n",
        "                'syllable_boundary_ambiguity': syllable_boundary_ambiguity(word),\n",
        "                'meaningfulness_score': 0.9 if is_meaningful_text else is_meaningful(word, model, tokenizer),\n",
        "                'morphological_complexity': morphological_complexity(word),\n",
        "                'letter_confusability': letter_confusability_score(word),\n",
        "                'ascender_descender_density': calculate_ascender_descender_density(word),\n",
        "                'spatial_crowding': spatial_crowding_metric(word)\n",
        "            }\n",
        "            results.append(result)\n",
        "\n",
        "    return pd.DataFrame(results)"
      ],
      "metadata": {
        "id": "8dsqJCNUfXDZ"
      },
      "execution_count": null,
      "outputs": []
    },
    {
      "cell_type": "code",
      "source": [
        "def compare_texts():\n",
        "    \"\"\"Compare meaningful vs pseudo-text characteristics\"\"\"\n",
        "    meaningful_analysis = analyze_text(meaningfulText, True)\n",
        "    pseudo_analysis = analyze_text(pseudoText, False)\n",
        "\n",
        "    comparison = {\n",
        "        'metric': [],\n",
        "        'meaningful_text_avg': [],\n",
        "        'pseudo_text_avg': [],\n",
        "        'difference': [],\n",
        "        'percent_difference': []\n",
        "    }\n",
        "\n",
        "    numeric_columns = [col for col in meaningful_analysis.columns if col != 'word' and\n",
        "                       col != 'consonant_clusters' and meaningful_analysis[col].dtype != 'object']\n",
        "\n",
        "    for col in numeric_columns:\n",
        "        meaningful_avg = meaningful_analysis[col].mean()\n",
        "        pseudo_avg = pseudo_analysis[col].mean()\n",
        "        diff = pseudo_avg - meaningful_avg\n",
        "        pct_diff = (diff / meaningful_avg) * 100 if meaningful_avg != 0 else float('inf')\n",
        "\n",
        "        comparison['metric'].append(col)\n",
        "        comparison['meaningful_text_avg'].append(meaningful_avg)\n",
        "        comparison['pseudo_text_avg'].append(pseudo_avg)\n",
        "        comparison['difference'].append(diff)\n",
        "        comparison['percent_difference'].append(pct_diff)\n",
        "\n",
        "    return pd.DataFrame(comparison)"
      ],
      "metadata": {
        "id": "HL8z3uk0faaS"
      },
      "execution_count": null,
      "outputs": []
    },
    {
      "cell_type": "code",
      "source": [
        "# Run the analyses\n",
        "syllable_analysis = analyze_syllable_matrix()\n",
        "meaningful_text_analysis = analyze_text(meaningfulText)\n",
        "pseudo_text_analysis = analyze_text(pseudoText, False)\n",
        "text_comparison = compare_texts()"
      ],
      "metadata": {
        "id": "eJygGtUtfcWN"
      },
      "execution_count": null,
      "outputs": []
    },
    {
      "cell_type": "code",
      "source": [
        "# Save results to CSV\n",
        "syllable_analysis.to_csv('syllable_analysis.csv', index=False)\n",
        "meaningful_text_analysis.to_csv('meaningful_text_analysis.csv', index=False)\n",
        "pseudo_text_analysis.to_csv('pseudo_text_analysis.csv', index=False)\n",
        "text_comparison.to_csv('text_comparison.csv', index=False)"
      ],
      "metadata": {
        "id": "cxlye4jCfptX"
      },
      "execution_count": null,
      "outputs": []
    },
    {
      "cell_type": "code",
      "source": [
        "# Print summary of analyses\n",
        "print(\"Syllable Matrix Analysis Summary:\")\n",
        "print(f\"Total syllables analyzed: {len(syllable_analysis)}\")\n",
        "print(\"Average difficulty score by row:\")\n",
        "for row in range(1, 11):\n",
        "    avg_difficulty = syllable_analysis[syllable_analysis['row'] == row]['difficulty_score'].mean()\n",
        "    print(f\"Row {row}: {avg_difficulty:.2f}\")"
      ],
      "metadata": {
        "colab": {
          "base_uri": "https://localhost:8080/"
        },
        "id": "mhXCUkJKgAvG",
        "outputId": "fa746bc6-42c0-45cd-c6ce-3b8e6a511500"
      },
      "execution_count": null,
      "outputs": [
        {
          "output_type": "stream",
          "name": "stdout",
          "text": [
            "Syllable Matrix Analysis Summary:\n",
            "Total syllables analyzed: 90\n",
            "Average difficulty score by row:\n",
            "Row 1: 1.00\n",
            "Row 2: 1.00\n",
            "Row 3: 2.11\n",
            "Row 4: 2.00\n",
            "Row 5: 2.83\n",
            "Row 6: 3.00\n",
            "Row 7: 3.11\n",
            "Row 8: 3.50\n",
            "Row 9: 3.61\n",
            "Row 10: 3.44\n"
          ]
        }
      ]
    },
    {
      "cell_type": "code",
      "source": [
        "print(\"\\nText Analysis Summary:\")\n",
        "print(f\"Meaningful text: {len(meaningful_text_analysis)} words analyzed\")\n",
        "print(f\"Average difficulty: {meaningful_text_analysis['difficulty_score'].mean():.2f}\")\n",
        "print(f\"Average cluster density: {meaningful_text_analysis['cluster_density'].mean():.2f}\")"
      ],
      "metadata": {
        "colab": {
          "base_uri": "https://localhost:8080/"
        },
        "id": "WmpJPbTCgF-G",
        "outputId": "074e599d-64d8-4287-83e2-5c5bc605488e"
      },
      "execution_count": null,
      "outputs": [
        {
          "output_type": "stream",
          "name": "stdout",
          "text": [
            "\n",
            "Text Analysis Summary:\n",
            "Meaningful text: 100 words analyzed\n",
            "Average difficulty: 2.47\n",
            "Average cluster density: 0.56\n"
          ]
        }
      ]
    },
    {
      "cell_type": "code",
      "source": [
        "print(f\"\\nPseudo text: {len(pseudo_text_analysis)} words analyzed\")\n",
        "print(f\"Average difficulty: {pseudo_text_analysis['difficulty_score'].mean():.2f}\")\n",
        "print(f\"Average cluster density: {pseudo_text_analysis['cluster_density'].mean():.2f}\")"
      ],
      "metadata": {
        "colab": {
          "base_uri": "https://localhost:8080/"
        },
        "id": "RNIsH8QqgKpS",
        "outputId": "dbd532c8-2a89-4ca4-a463-f9273770b8d6"
      },
      "execution_count": null,
      "outputs": [
        {
          "output_type": "stream",
          "name": "stdout",
          "text": [
            "\n",
            "Pseudo text: 102 words analyzed\n",
            "Average difficulty: 2.34\n",
            "Average cluster density: 0.52\n"
          ]
        }
      ]
    },
    {
      "cell_type": "code",
      "source": [
        "print(\"\\nKey Differences (Pseudo vs Meaningful):\")\n",
        "for _, row in text_comparison.iterrows():\n",
        "    if abs(row['percent_difference']) > 10:  # Show differences >10%\n",
        "        print(f\"{row['metric']}: {row['percent_difference']:.1f}% difference\")"
      ],
      "metadata": {
        "colab": {
          "base_uri": "https://localhost:8080/"
        },
        "id": "kdr-LifKgNmK",
        "outputId": "7b98442b-b8da-4b74-f6e3-eb3f08e0a710"
      },
      "execution_count": null,
      "outputs": [
        {
          "output_type": "stream",
          "name": "stdout",
          "text": [
            "\n",
            "Key Differences (Pseudo vs Meaningful):\n",
            "meaningfulness_score: -33.3% difference\n",
            "letter_confusability: -21.3% difference\n",
            "ascender_descender_density: -12.7% difference\n"
          ]
        }
      ]
    },
    {
      "cell_type": "markdown",
      "source": [
        "# **Visualization of syllable complexity**"
      ],
      "metadata": {
        "id": "ds6-eIeUgSJB"
      }
    },
    {
      "cell_type": "code",
      "source": [
        "import matplotlib.pyplot as plt\n",
        "import seaborn as sns\n",
        "\n",
        "plt.figure(figsize=(10, 8))\n",
        "heatmap_data = syllable_analysis.pivot_table(\n",
        "    values='positional_difficulty',\n",
        "    index='row',\n",
        "    columns='column'\n",
        ")\n",
        "sns.heatmap(heatmap_data, annot=syllables, fmt='', cmap='YlOrRd')\n",
        "plt.title('Syllable Positional Difficulty Heatmap')\n",
        "plt.savefig('syllable_complexity_heatmap.png')"
      ],
      "metadata": {
        "colab": {
          "base_uri": "https://localhost:8080/",
          "height": 588
        },
        "id": "v7lK2-Icd4cT",
        "outputId": "0eaf8ce4-001f-410e-d7bd-51ec5abae998"
      },
      "execution_count": null,
      "outputs": [
        {
          "output_type": "display_data",
          "data": {
            "text/plain": [
              "<Figure size 1000x800 with 2 Axes>"
            ],
            "image/png": "[encoded data removed]"
          },
          "metadata": {}
        }
      ]
    },
    {
      "cell_type": "code",
      "source": [
        "# Create dyslexia difficulty rating for each syllable\n",
        "syllable_analysis['dyslexia_difficulty'] = (\n",
        "    syllable_analysis['positional_difficulty'] * 0.3 +\n",
        "    syllable_analysis['cluster_density'] * 0.25 +\n",
        "    syllable_analysis['letter_confusability'] * 0.25 +\n",
        "    syllable_analysis['orthographic_transparency'] * 0.2\n",
        ")"
      ],
      "metadata": {
        "id": "_EYEnQs5gYJa"
      },
      "execution_count": null,
      "outputs": []
    },
    {
      "cell_type": "code",
      "source": [
        "print(\"\\nTop 10 Most Challenging Syllables for Dyslexia:\")\n",
        "top_difficult = syllable_analysis.sort_values('dyslexia_difficulty', ascending=False).head(10)\n",
        "for _, row in top_difficult.iterrows():\n",
        "    print(f\"{row['syllable']} (Row {row['row']}, Col {row['column']}): {row['dyslexia_difficulty']:.2f}\")"
      ],
      "metadata": {
        "colab": {
          "base_uri": "https://localhost:8080/"
        },
        "id": "_PnkOKiugb6N",
        "outputId": "ab72675f-fdd4-4308-a9a0-e92f08569e97"
      },
      "execution_count": null,
      "outputs": [
        {
          "output_type": "stream",
          "name": "stdout",
          "text": [
            "\n",
            "Top 10 Most Challenging Syllables for Dyslexia:\n",
            "štěrk (Row 10, Col 7): 1.91\n",
            "bronz (Row 10, Col 9): 1.79\n",
            "kvést (Row 10, Col 8): 1.79\n",
            "hned (Row 9, Col 3): 1.76\n",
            "vpád (Row 9, Col 1): 1.75\n",
            "blesk (Row 10, Col 6): 1.72\n",
            "kmen (Row 8, Col 9): 1.67\n",
            "vnuk (Row 8, Col 7): 1.64\n",
            "chlup (Row 9, Col 5): 1.63\n",
            "mlýn (Row 8, Col 3): 1.61\n"
          ]
        }
      ]
    },
    {
      "cell_type": "code",
      "source": [
        "# Export the final enhanced analysis\n",
        "syllable_analysis.to_csv('syllable_dyslexia_analysis.csv', index=False)"
      ],
      "metadata": {
        "id": "Y1bg5jWIgfXH"
      },
      "execution_count": null,
      "outputs": []
    }
  ]
}